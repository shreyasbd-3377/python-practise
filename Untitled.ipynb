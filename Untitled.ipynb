{
 "cells": [
  {
   "cell_type": "code",
   "execution_count": 1,
   "id": "418c250f-07a6-4eb4-95dc-ca6c9d2185d7",
   "metadata": {},
   "outputs": [
    {
     "name": "stdout",
     "output_type": "stream",
     "text": [
      "hello\n"
     ]
    }
   ],
   "source": [
    "print(\"hello\")"
   ]
  },
  {
   "cell_type": "code",
   "execution_count": 2,
   "id": "fdaf1bde-35ff-4a04-81ce-401ecbaae151",
   "metadata": {},
   "outputs": [
    {
     "name": "stdout",
     "output_type": "stream",
     "text": [
      "0\n",
      "1\n",
      "2\n",
      "3\n",
      "4\n",
      "5\n",
      "6\n",
      "7\n",
      "8\n",
      "9\n"
     ]
    }
   ],
   "source": [
    "for i in range(0,10):\n",
    "    print(i)"
   ]
  },
  {
   "cell_type": "code",
   "execution_count": 3,
   "id": "067bf125-e39b-42ef-916f-a77018e820bf",
   "metadata": {},
   "outputs": [
    {
     "data": {
      "text/plain": [
       "5"
      ]
     },
     "execution_count": 3,
     "metadata": {},
     "output_type": "execute_result"
    }
   ],
   "source": [
    "10-5"
   ]
  },
  {
   "cell_type": "code",
   "execution_count": 8,
   "id": "5f9ac903-0899-4a2a-93bb-4f5e2e3a47f5",
   "metadata": {},
   "outputs": [
    {
     "name": "stdout",
     "output_type": "stream",
     "text": [
      "True\n"
     ]
    }
   ],
   "source": [
    "name = 'kalyan'\n",
    "\n",
    "if 'a' in name:\n",
    "    print(True)\n",
    "else:\n",
    "    print(False)"
   ]
  },
  {
   "cell_type": "code",
   "execution_count": 9,
   "id": "27ab202d-ea00-4584-9f59-ca6b86180e9f",
   "metadata": {},
   "outputs": [
    {
     "name": "stdout",
     "output_type": "stream",
     "text": [
      "False\n"
     ]
    }
   ],
   "source": [
    "if 'z' in name:\n",
    "    print(True)\n",
    "else:\n",
    "    print(False)"
   ]
  },
  {
   "cell_type": "code",
   "execution_count": 10,
   "id": "a3156cb7-cb1a-4af0-a40b-8a1f89464386",
   "metadata": {},
   "outputs": [
    {
     "name": "stdout",
     "output_type": "stream",
     "text": [
      "k\n",
      "a\n",
      "l\n",
      "y\n",
      "a\n",
      "n\n"
     ]
    }
   ],
   "source": [
    "for i in name:\n",
    "    print(i)"
   ]
  },
  {
   "cell_type": "code",
   "execution_count": 15,
   "id": "cee3691b-ab17-4fb0-8f19-3ab219d6091c",
   "metadata": {},
   "outputs": [
    {
     "name": "stdout",
     "output_type": "stream",
     "text": [
      "kalyan does Python "
     ]
    }
   ],
   "source": [
    "print('kalyan', end=\" \")\n",
    "print('does',end=\" \")\n",
    "print('Python',end=\" \")"
   ]
  },
  {
   "cell_type": "code",
   "execution_count": 12,
   "id": "35f70c0f-de4e-4e81-8299-b16c871556c8",
   "metadata": {},
   "outputs": [
    {
     "name": "stdout",
     "output_type": "stream",
     "text": [
      "kalyan\n",
      "does\n",
      "Python\n"
     ]
    }
   ],
   "source": [
    "print('kalyan')\n",
    "print('does')\n",
    "print('Python')"
   ]
  },
  {
   "cell_type": "code",
   "execution_count": 16,
   "id": "42fa4413-9c07-403f-8493-0fb9f5ea85c6",
   "metadata": {},
   "outputs": [
    {
     "data": {
      "text/plain": [
       "'kalyan'"
      ]
     },
     "execution_count": 16,
     "metadata": {},
     "output_type": "execute_result"
    }
   ],
   "source": [
    "name"
   ]
  },
  {
   "cell_type": "code",
   "execution_count": 18,
   "id": "f859484b-5b55-4b17-ad1e-69ba8d8622f4",
   "metadata": {},
   "outputs": [
    {
     "data": {
      "text/plain": [
       "'kalyan how are you'"
      ]
     },
     "execution_count": 18,
     "metadata": {},
     "output_type": "execute_result"
    }
   ],
   "source": [
    "name + \" how are you\""
   ]
  },
  {
   "cell_type": "code",
   "execution_count": 24,
   "id": "631ded34-45bf-4a91-b7c7-2af87b59ce9a",
   "metadata": {},
   "outputs": [],
   "source": [
    "name = 'Shreyas'"
   ]
  },
  {
   "cell_type": "code",
   "execution_count": 25,
   "id": "ea58a5b8-912a-4c98-acb5-3d3ea39e78bc",
   "metadata": {},
   "outputs": [
    {
     "data": {
      "text/plain": [
       "'Shreyas how are you'"
      ]
     },
     "execution_count": 25,
     "metadata": {},
     "output_type": "execute_result"
    }
   ],
   "source": [
    "f\"{name} how are you\""
   ]
  },
  {
   "cell_type": "code",
   "execution_count": null,
   "id": "4b984cd1-806e-4a16-82f2-2b18cbbf839f",
   "metadata": {},
   "outputs": [],
   "source": []
  }
 ],
 "metadata": {
  "kernelspec": {
   "display_name": "Python 3 (ipykernel)",
   "language": "python",
   "name": "python3"
  },
  "language_info": {
   "codemirror_mode": {
    "name": "ipython",
    "version": 3
   },
   "file_extension": ".py",
   "mimetype": "text/x-python",
   "name": "python",
   "nbconvert_exporter": "python",
   "pygments_lexer": "ipython3",
   "version": "3.10.11"
  }
 },
 "nbformat": 4,
 "nbformat_minor": 5
}
